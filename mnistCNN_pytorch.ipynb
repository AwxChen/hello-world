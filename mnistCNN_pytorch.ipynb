{
 "cells": [
  {
   "cell_type": "code",
   "execution_count": 2,
   "metadata": {
    "ExecuteTime": {
     "end_time": "2021-11-01T06:58:53.006539Z",
     "start_time": "2021-11-01T06:58:53.002390Z"
    }
   },
   "outputs": [],
   "source": [
    "#导入需要的包\n",
    "import numpy as np\n",
    "import torch \n",
    "from torch import nn\n",
    "from PIL import Image\n",
    "import matplotlib.pyplot as plt\n",
    "import os\n",
    "from torchvision import datasets, transforms,utils"
   ]
  },
  {
   "cell_type": "code",
   "execution_count": 5,
   "metadata": {
    "ExecuteTime": {
     "end_time": "2021-11-01T06:59:40.321604Z",
     "start_time": "2021-11-01T06:59:40.288604Z"
    }
   },
   "outputs": [],
   "source": [
    "transform = transforms.Compose([transforms.ToTensor(),\n",
    "                               transforms.Normalize(mean=[0.5],std=[0.5])])\n",
    "train_data = datasets.MNIST(root = \"./data/\",\n",
    "                            transform=transform,\n",
    "                            train = True,\n",
    "                            download = True)\n",
    "\n",
    "test_data = datasets.MNIST(root=\"./data/\",\n",
    "                           transform = transform,\n",
    "                           train = False)"
   ]
  },
  {
   "cell_type": "code",
   "execution_count": 6,
   "metadata": {
    "ExecuteTime": {
     "end_time": "2021-11-01T06:59:45.591044Z",
     "start_time": "2021-11-01T06:59:45.582033Z"
    }
   },
   "outputs": [
    {
     "data": {
      "text/plain": [
       "10000"
      ]
     },
     "execution_count": 6,
     "metadata": {},
     "output_type": "execute_result"
    }
   ],
   "source": [
    "len(test_data)"
   ]
  },
  {
   "cell_type": "code",
   "execution_count": 7,
   "metadata": {
    "ExecuteTime": {
     "end_time": "2021-11-01T06:59:54.033391Z",
     "start_time": "2021-11-01T06:59:54.017368Z"
    }
   },
   "outputs": [],
   "source": [
    "train_loader = torch.utils.data.DataLoader(train_data,batch_size=64,\n",
    "                                          shuffle=True,num_workers=2)\n",
    "test_loader = torch.utils.data.DataLoader(test_data,batch_size=64,\n",
    "                                          shuffle=True,num_workers=2)"
   ]
  },
  {
   "cell_type": "code",
   "execution_count": 8,
   "metadata": {
    "ExecuteTime": {
     "end_time": "2021-11-01T07:00:00.672695Z",
     "start_time": "2021-11-01T07:00:00.654670Z"
    }
   },
   "outputs": [
    {
     "name": "stdout",
     "output_type": "stream",
     "text": [
      "938\n",
      "157\n"
     ]
    }
   ],
   "source": [
    "print(len(train_loader))\n",
    "print(len(test_loader))"
   ]
  },
  {
   "cell_type": "code",
   "execution_count": 10,
   "metadata": {
    "ExecuteTime": {
     "end_time": "2021-11-01T07:00:25.288648Z",
     "start_time": "2021-11-01T07:00:25.267641Z"
    }
   },
   "outputs": [
    {
     "name": "stdout",
     "output_type": "stream",
     "text": [
      "[tensor([[[[-1., -1., -1.,  ..., -1., -1., -1.],\n",
      "          [-1., -1., -1.,  ..., -1., -1., -1.],\n",
      "          [-1., -1., -1.,  ..., -1., -1., -1.],\n",
      "          ...,\n",
      "          [-1., -1., -1.,  ..., -1., -1., -1.],\n",
      "          [-1., -1., -1.,  ..., -1., -1., -1.],\n",
      "          [-1., -1., -1.,  ..., -1., -1., -1.]]],\n",
      "\n",
      "\n",
      "        [[[-1., -1., -1.,  ..., -1., -1., -1.],\n",
      "          [-1., -1., -1.,  ..., -1., -1., -1.],\n",
      "          [-1., -1., -1.,  ..., -1., -1., -1.],\n",
      "          ...,\n",
      "          [-1., -1., -1.,  ..., -1., -1., -1.],\n",
      "          [-1., -1., -1.,  ..., -1., -1., -1.],\n",
      "          [-1., -1., -1.,  ..., -1., -1., -1.]]],\n",
      "\n",
      "\n",
      "        [[[-1., -1., -1.,  ..., -1., -1., -1.],\n",
      "          [-1., -1., -1.,  ..., -1., -1., -1.],\n",
      "          [-1., -1., -1.,  ..., -1., -1., -1.],\n",
      "          ...,\n",
      "          [-1., -1., -1.,  ..., -1., -1., -1.],\n",
      "          [-1., -1., -1.,  ..., -1., -1., -1.],\n",
      "          [-1., -1., -1.,  ..., -1., -1., -1.]]],\n",
      "\n",
      "\n",
      "        ...,\n",
      "\n",
      "\n",
      "        [[[-1., -1., -1.,  ..., -1., -1., -1.],\n",
      "          [-1., -1., -1.,  ..., -1., -1., -1.],\n",
      "          [-1., -1., -1.,  ..., -1., -1., -1.],\n",
      "          ...,\n",
      "          [-1., -1., -1.,  ..., -1., -1., -1.],\n",
      "          [-1., -1., -1.,  ..., -1., -1., -1.],\n",
      "          [-1., -1., -1.,  ..., -1., -1., -1.]]],\n",
      "\n",
      "\n",
      "        [[[-1., -1., -1.,  ..., -1., -1., -1.],\n",
      "          [-1., -1., -1.,  ..., -1., -1., -1.],\n",
      "          [-1., -1., -1.,  ..., -1., -1., -1.],\n",
      "          ...,\n",
      "          [-1., -1., -1.,  ..., -1., -1., -1.],\n",
      "          [-1., -1., -1.,  ..., -1., -1., -1.],\n",
      "          [-1., -1., -1.,  ..., -1., -1., -1.]]],\n",
      "\n",
      "\n",
      "        [[[-1., -1., -1.,  ..., -1., -1., -1.],\n",
      "          [-1., -1., -1.,  ..., -1., -1., -1.],\n",
      "          [-1., -1., -1.,  ..., -1., -1., -1.],\n",
      "          ...,\n",
      "          [-1., -1., -1.,  ..., -1., -1., -1.],\n",
      "          [-1., -1., -1.,  ..., -1., -1., -1.],\n",
      "          [-1., -1., -1.,  ..., -1., -1., -1.]]]]), tensor([9, 2, 0, 9, 2, 0, 8, 1, 2, 8, 2, 7, 4, 0, 3, 1, 7, 0, 4, 5, 8, 0, 9, 3,\n",
      "        8, 4, 8, 0, 4, 6, 2, 1, 2, 3, 3, 4, 5, 5, 0, 4, 0, 9, 3, 1, 6, 6, 0, 4,\n",
      "        8, 7, 0, 0, 5, 0, 0, 5, 2, 2, 2, 8, 8, 6, 0, 6])]\n"
     ]
    }
   ],
   "source": [
    "# data_iter = iter(train_loader)\n",
    "print(next(data_iter))"
   ]
  },
  {
   "cell_type": "code",
   "execution_count": 12,
   "metadata": {
    "ExecuteTime": {
     "end_time": "2021-11-01T07:01:49.910501Z",
     "start_time": "2021-11-01T07:01:49.781466Z"
    },
    "scrolled": true
   },
   "outputs": [
    {
     "data": {
      "image/png": "[encoded data removed]",
      "text/plain": [
       "<Figure size 432x288 with 1 Axes>"
      ]
     },
     "metadata": {
      "needs_background": "light"
     },
     "output_type": "display_data"
    }
   ],
   "source": [
    "oneimg,label = train_data[0]\n",
    "oneimg = oneimg.numpy().transpose(1,2,0) \n",
    "std = [0.5]\n",
    "mean = [0.5]\n",
    "oneimg = oneimg * std + mean\n",
    "oneimg.resize(28,28)\n",
    "plt.imshow(oneimg)\n",
    "plt.show()"
   ]
  },
  {
   "cell_type": "code",
   "execution_count": 13,
   "metadata": {
    "ExecuteTime": {
     "end_time": "2021-11-01T07:01:56.015143Z",
     "start_time": "2021-11-01T07:01:55.895132Z"
    }
   },
   "outputs": [
    {
     "data": {
      "image/png": "[encoded data removed]",
      "text/plain": [
       "<Figure size 432x288 with 1 Axes>"
      ]
     },
     "metadata": {
      "needs_background": "light"
     },
     "output_type": "display_data"
    }
   ],
   "source": [
    "oneimg,label = train_data[0]\n",
    "grid = utils.make_grid(oneimg)\n",
    "grid = grid.numpy().transpose(1,2,0) \n",
    "std = [0.5]\n",
    "mean = [0.5]\n",
    "grid = grid * std + mean\n",
    "plt.imshow(grid)\n",
    "plt.show()"
   ]
  },
  {
   "cell_type": "code",
   "execution_count": 17,
   "metadata": {
    "ExecuteTime": {
     "end_time": "2021-11-01T07:03:00.589037Z",
     "start_time": "2021-11-01T07:02:59.172522Z"
    }
   },
   "outputs": [
    {
     "name": "stdout",
     "output_type": "stream",
     "text": [
      "tensor(8) tensor(1) tensor(0) tensor(9) tensor(8) tensor(2) tensor(2) tensor(6) \n",
      "tensor(4) tensor(3) tensor(6) tensor(7) tensor(9) tensor(1) tensor(3) tensor(7) \n",
      "tensor(7) tensor(7) tensor(6) tensor(7) tensor(4) tensor(6) tensor(5) tensor(6) \n",
      "tensor(4) tensor(2) tensor(5) tensor(3) tensor(7) tensor(1) tensor(8) tensor(8) \n",
      "tensor(5) tensor(4) tensor(5) tensor(9) tensor(5) tensor(6) tensor(5) tensor(1) \n",
      "tensor(7) tensor(4) tensor(8) tensor(7) tensor(0) tensor(2) tensor(2) tensor(9) \n",
      "tensor(9) tensor(4) tensor(7) tensor(4) tensor(0) tensor(6) tensor(3) tensor(4) \n",
      "tensor(1) tensor(4) tensor(1) tensor(6) tensor(0) tensor(4) tensor(8) tensor(7) \n"
     ]
    },
    {
     "data": {
      "image/png": "[encoded data removed]",
      "text/plain": [
       "<Figure size 432x288 with 1 Axes>"
      ]
     },
     "metadata": {
      "needs_background": "light"
     },
     "output_type": "display_data"
    }
   ],
   "source": [
    "images, lables = next(iter(train_loader))\n",
    "img = utils.make_grid(images)\n",
    "# transpose 转置函数(x=0,y=1,z=2),新的x是原来的y轴大小，新的y是原来的z轴大小，新的z是原来的x大小\n",
    "#相当于把x=1这个一道最后面去。\n",
    "img = img.numpy().transpose(1,2,0) \n",
    "std = [0.5]\n",
    "mean = [0.5]\n",
    "img = img * std + mean\n",
    "for i in range(64):\n",
    "    print(lables[i], end=\" \")\n",
    "    i += 1\n",
    "    if i%8 == 0:\n",
    "        print(end='\\n')\n",
    "plt.imshow(img)\n",
    "plt.show()"
   ]
  },
  {
   "cell_type": "markdown",
   "metadata": {
    "ExecuteTime": {
     "end_time": "2021-11-01T07:03:11.065380Z",
     "start_time": "2021-11-01T07:03:11.046375Z"
    }
   },
   "source": [
    "Step2.网络配置\n",
    "网络结构是两个卷积层，3个全连接层。\n",
    "\n",
    "Conv2d参数\n",
    "\n",
    "in_channels(int) – 输入信号的通道数目\n",
    "out_channels(int) – 卷积产生的通道数目\n",
    "kerner_size(int or tuple) - 卷积核的尺寸\n",
    "stride(int or tuple, optional) - 卷积步长\n",
    "padding(int or tuple, optional) - 输入的每一条边补充0的层数"
   ]
  },
  {
   "cell_type": "code",
   "execution_count": 22,
   "metadata": {
    "ExecuteTime": {
     "end_time": "2021-11-01T07:04:04.566374Z",
     "start_time": "2021-11-01T07:04:04.524370Z"
    }
   },
   "outputs": [],
   "source": [
    "#1.定义一个CNN网络\n",
    "\n",
    "import torch.nn.functional as F\n",
    "class CNN(nn.Module):\n",
    "    def __init__(self):\n",
    "        super(CNN,self).__init__()\n",
    "        self.conv1 = nn.Conv2d(1,32,kernel_size=3,stride=1,padding=1)\n",
    "        self.pool = nn.MaxPool2d(2,2)\n",
    "        self.conv2 = nn.Conv2d(32,64,kernel_size=3,stride=1,padding=1)\n",
    "        self.fc1 = nn.Linear(64*7*7,1024)#两个池化，所以是7*7而不是14*14\n",
    "        self.fc2 = nn.Linear(1024,512)\n",
    "        self.fc3 = nn.Linear(512,10)\n",
    "#         self.dp = nn.Dropout(p=0.5)\n",
    "    def forward(self,x):\n",
    "        x = self.pool(F.relu(self.conv1(x)))\n",
    "        x = self.pool(F.relu(self.conv2(x)))\n",
    "\n",
    "        x = x.view(-1, 64 * 7* 7)#将数据平整为一维的 \n",
    "        x = F.relu(self.fc1(x))\n",
    "#         x = self.fc3(x)\n",
    "#         self.dp(x)\n",
    "        x = F.relu(self.fc2(x))   \n",
    "        x = self.fc3(x)  \n",
    "#         x = F.log_softmax(x,dim=1) NLLLoss()才需要，交叉熵不需要\n",
    "        return x\n",
    "\n",
    "net = CNN()"
   ]
  },
  {
   "cell_type": "code",
   "execution_count": 23,
   "metadata": {
    "ExecuteTime": {
     "end_time": "2021-11-01T07:04:07.515055Z",
     "start_time": "2021-11-01T07:04:07.498037Z"
    }
   },
   "outputs": [],
   "source": [
    "# 2.定义损失函数和优化函数\n",
    "import torch.optim as optim\n",
    "\n",
    "criterion = nn.CrossEntropyLoss()\n",
    "optimizer = optim.SGD(net.parameters(), lr=0.001, momentum=0.9)\n",
    "#也可以选择Adam优化方法\n",
    "# optimizer = torch.optim.Adam(net.parameters(),lr=1e-2)"
   ]
  },
  {
   "cell_type": "code",
   "execution_count": 25,
   "metadata": {
    "ExecuteTime": {
     "end_time": "2021-11-01T07:10:51.854456Z",
     "start_time": "2021-11-01T07:08:18.641889Z"
    }
   },
   "outputs": [
    {
     "name": "stdout",
     "output_type": "stream",
     "text": [
      "[1,  100] loss :0.103\n",
      "[1,  200] loss :0.113\n",
      "[1,  300] loss :0.099\n",
      "[1,  400] loss :0.108\n",
      "[1,  500] loss :0.096\n",
      "[1,  600] loss :0.104\n",
      "[1,  700] loss :0.098\n",
      "[1,  800] loss :0.091\n",
      "[1,  900] loss :0.099\n",
      "[2,  100] loss :0.090\n",
      "[2,  200] loss :0.080\n",
      "[2,  300] loss :0.090\n",
      "[2,  400] loss :0.076\n",
      "[2,  500] loss :0.078\n",
      "[2,  600] loss :0.080\n",
      "[2,  700] loss :0.083\n",
      "[2,  800] loss :0.074\n",
      "[2,  900] loss :0.070\n",
      "[3,  100] loss :0.074\n",
      "[3,  200] loss :0.066\n",
      "[3,  300] loss :0.058\n",
      "[3,  400] loss :0.064\n",
      "[3,  500] loss :0.062\n",
      "[3,  600] loss :0.070\n",
      "[3,  700] loss :0.075\n",
      "[3,  800] loss :0.062\n",
      "[3,  900] loss :0.077\n"
     ]
    }
   ],
   "source": [
    "train_accs = []\n",
    "train_loss = []\n",
    "test_accs = []\n",
    "device = torch.device(\"cuda:0\" if torch.cuda.is_available() else \"cpu\")\n",
    "net = net.to(device)\n",
    "for epoch in range(3):\n",
    "    running_loss = 0.0\n",
    "    for i,data in enumerate(train_loader,0):#0是下标起始位置默认为0\n",
    "        # data 的格式[[inputs, labels]]       \n",
    "#         inputs,labels = data\n",
    "        inputs,labels = data[0].to(device), data[1].to(device)\n",
    "        #初始为0，清除上个batch的梯度信息\n",
    "        optimizer.zero_grad()         \n",
    "\n",
    "        #前向+后向+优化     \n",
    "        outputs = net(inputs)\n",
    "        loss = criterion(outputs,labels)\n",
    "        loss.backward()\n",
    "        optimizer.step()\n",
    "\n",
    "        # loss 的输出，每个一百个batch输出，平均的loss\n",
    "        running_loss += loss.item()\n",
    "        if i%100 == 99:\n",
    "            print('[%d,%5d] loss :%.3f' %\n",
    "                 (epoch+1,i+1,running_loss/100))\n",
    "            running_loss = 0.0\n",
    "        train_loss.append(loss.item())\n",
    "\n",
    "        # 训练曲线的绘制 一个batch中的准确率\n",
    "        correct = 0\n",
    "        total = 0\n",
    "        _, predicted = torch.max(outputs.data, 1)\n",
    "        total = labels.size(0)# labels 的长度\n",
    "        correct = (predicted == labels).sum().item() # 预测正确的数目\n",
    "        train_accs.append(100*correct/total)"
   ]
  },
  {
   "cell_type": "markdown",
   "metadata": {},
   "source": [
    "第一次省电模式训练\n",
    "2m 57s\n",
    "[1,  100] loss :2.288\n",
    "[1,  200] loss :2.238\n",
    "[1,  300] loss :2.096\n",
    "[1,  400] loss :1.543\n",
    "[1,  500] loss :0.810\n",
    "[1,  600] loss :0.529\n",
    "[1,  700] loss :0.428\n",
    "[1,  800] loss :0.377\n",
    "[1,  900] loss :0.338\n",
    "[2,  100] loss :0.312\n",
    "[2,  200] loss :0.266\n",
    "[2,  300] loss :0.263\n",
    "[2,  400] loss :0.234\n",
    "[2,  500] loss :0.222\n",
    "[2,  600] loss :0.213\n",
    "[2,  700] loss :0.215\n",
    "[2,  800] loss :0.207\n",
    "[2,  900] loss :0.196\n",
    "[3,  100] loss :0.160\n",
    "[3,  200] loss :0.164\n",
    "[3,  300] loss :0.164\n",
    "[3,  400] loss :0.153\n",
    "[3,  500] loss :0.142\n",
    "[3,  600] loss :0.139\n",
    "[3,  700] loss :0.121\n",
    "[3,  800] loss :0.120\n",
    "[3,  900] loss :0.118\n",
    "\n",
    "第二次最佳性能训练\n",
    "executed in 2m 33s, finished 15:10:51 2021-11-01\n",
    "[1,  100] loss :0.103\n",
    "[1,  200] loss :0.113\n",
    "[1,  300] loss :0.099\n",
    "[1,  400] loss :0.108\n",
    "[1,  500] loss :0.096\n",
    "[1,  600] loss :0.104\n",
    "[1,  700] loss :0.098\n",
    "[1,  800] loss :0.091\n",
    "[1,  900] loss :0.099\n",
    "[2,  100] loss :0.090\n",
    "[2,  200] loss :0.080\n",
    "[2,  300] loss :0.090\n",
    "[2,  400] loss :0.076\n",
    "[2,  500] loss :0.078\n",
    "[2,  600] loss :0.080\n",
    "[2,  700] loss :0.083\n",
    "[2,  800] loss :0.074\n",
    "[2,  900] loss :0.070\n",
    "[3,  100] loss :0.074\n",
    "[3,  200] loss :0.066\n",
    "[3,  300] loss :0.058\n",
    "[3,  400] loss :0.064\n",
    "[3,  500] loss :0.062\n",
    "[3,  600] loss :0.070\n",
    "[3,  700] loss :0.075\n",
    "[3,  800] loss :0.062\n",
    "[3,  900] loss :0.077"
   ]
  },
  {
   "cell_type": "code",
   "execution_count": 26,
   "metadata": {
    "ExecuteTime": {
     "end_time": "2021-11-01T07:11:34.456354Z",
     "start_time": "2021-11-01T07:11:34.410816Z"
    }
   },
   "outputs": [],
   "source": [
    "# 模型的保存\n",
    "\n",
    "PATH = './mnist_net.pth'\n",
    "torch.save(net.state_dict(), PATH)"
   ]
  },
  {
   "cell_type": "code",
   "execution_count": 28,
   "metadata": {
    "ExecuteTime": {
     "end_time": "2021-11-01T07:13:31.155148Z",
     "start_time": "2021-11-01T07:13:30.982096Z"
    }
   },
   "outputs": [
    {
     "data": {
      "image/png": "[encoded data removed]",
      "text/plain": [
       "<Figure size 432x288 with 1 Axes>"
      ]
     },
     "metadata": {
      "needs_background": "light"
     },
     "output_type": "display_data"
    }
   ],
   "source": [
    "# Step4.模型评估\n",
    "# 画图\n",
    "\n",
    "def draw_train_process(title,iters,costs,accs,label_cost,lable_acc):\n",
    "    plt.title(title, fontsize=24)\n",
    "    plt.xlabel(\"iter\", fontsize=20)\n",
    "    plt.ylabel(\"acc(\\%)\", fontsize=20)\n",
    "    plt.plot(iters, costs,color='red',label=label_cost) \n",
    "    plt.plot(iters, accs,color='green',label=lable_acc) \n",
    "    plt.legend()\n",
    "    plt.grid()\n",
    "    plt.show()\n",
    "train_iters = range(len(train_accs))\n",
    "draw_train_process('training',train_iters,train_loss,train_accs,'training loss','training acc')"
   ]
  },
  {
   "cell_type": "code",
   "execution_count": 30,
   "metadata": {
    "ExecuteTime": {
     "end_time": "2021-11-01T07:13:39.273092Z",
     "start_time": "2021-11-01T07:13:38.136835Z"
    }
   },
   "outputs": [
    {
     "data": {
      "image/png": "[encoded data removed]",
      "text/plain": [
       "<Figure size 432x288 with 1 Axes>"
      ]
     },
     "metadata": {
      "needs_background": "light"
     },
     "output_type": "display_data"
    },
    {
     "name": "stdout",
     "output_type": "stream",
     "text": [
      "GroundTruth:  8 7 6 7 9 0 3 4 8 9 8 0 5 6 1 7 7 9 1 8 3 1 6 2 2 5 1 9 8 2 8 8 7 6 4 4 9 3 3 5 3 1 3 5 8 4 9 8 4 2 4 9 0 0 3 7 4 3 1 6 0 0 7 5\n"
     ]
    }
   ],
   "source": [
    "# 检验一个batch的分类情况\n",
    "\n",
    "dataiter = iter(test_loader)\n",
    "images, labels = dataiter.next()\n",
    "\n",
    "# print images\n",
    "test_img = utils.make_grid(images)\n",
    "test_img = test_img.numpy().transpose(1,2,0)\n",
    "std = [0.5,0.5,0.5]\n",
    "mean =  [0.5,0.5,0.5]\n",
    "test_img = test_img*std+0.5\n",
    "plt.imshow(test_img)\n",
    "plt.show()\n",
    "print('GroundTruth: ', ' '.join('%d' % labels[j] for j in range(64)))"
   ]
  },
  {
   "cell_type": "code",
   "execution_count": 31,
   "metadata": {
    "ExecuteTime": {
     "end_time": "2021-11-01T07:14:17.658705Z",
     "start_time": "2021-11-01T07:14:17.601693Z"
    }
   },
   "outputs": [],
   "source": [
    "test_net = CNN()\n",
    "test_net.load_state_dict(torch.load(PATH))\n",
    "test_out = test_net(images)"
   ]
  },
  {
   "cell_type": "code",
   "execution_count": 32,
   "metadata": {
    "ExecuteTime": {
     "end_time": "2021-11-01T07:14:29.684789Z",
     "start_time": "2021-11-01T07:14:29.666792Z"
    }
   },
   "outputs": [
    {
     "name": "stdout",
     "output_type": "stream",
     "text": [
      "Predicted:  8 7 6 7 9 0 3 4 8 9 8 0 5 6 1 7 7 9 1 8 3 1 6 2 2 5 1 9 8 2 8 8 7 6 4 4 9 3 3 5 3 1 3 5 8 4 9 8 4 2 4 9 0 8 3 7 4 3 1 6 0 0 7 5\n"
     ]
    }
   ],
   "source": [
    "# 输出的是每一类的对应概率，所以需要选择max来确定最终输出的类别 dim=1 表示选择行的最大索引\n",
    "\n",
    "_, predicted = torch.max(test_out, dim=1)\n",
    "\n",
    "print('Predicted: ', ' '.join('%d' % predicted[j]\n",
    "                              for j in range(64)))"
   ]
  },
  {
   "cell_type": "code",
   "execution_count": 34,
   "metadata": {
    "ExecuteTime": {
     "end_time": "2021-11-01T07:14:57.180862Z",
     "start_time": "2021-11-01T07:14:53.243044Z"
    }
   },
   "outputs": [
    {
     "name": "stdout",
     "output_type": "stream",
     "text": [
      "Accuracy of the network on the  test images: 98 %\n"
     ]
    }
   ],
   "source": [
    "# 测试集上面整体的准确率\n",
    "\n",
    "correct = 0\n",
    "total = 0\n",
    "with torch.no_grad():# 进行评测的时候网络不更新梯度\n",
    "    for data in test_loader:\n",
    "        images, labels = data\n",
    "        outputs = test_net(images)\n",
    "        _, predicted = torch.max(outputs.data, 1)\n",
    "        total += labels.size(0)# labels 的长度\n",
    "        correct += (predicted == labels).sum().item() # 预测正确的数目\n",
    "\n",
    "print('Accuracy of the network on the  test images: %d %%' % (\n",
    "    100 * correct / total))"
   ]
  },
  {
   "cell_type": "code",
   "execution_count": 36,
   "metadata": {
    "ExecuteTime": {
     "end_time": "2021-11-01T07:15:15.173143Z",
     "start_time": "2021-11-01T07:15:11.216731Z"
    }
   },
   "outputs": [
    {
     "name": "stdout",
     "output_type": "stream",
     "text": [
      "Accuracy of 0 : 100 %\n",
      "Accuracy of 1 : 99 %\n",
      "Accuracy of 2 : 99 %\n",
      "Accuracy of 3 : 98 %\n",
      "Accuracy of 4 : 100 %\n",
      "Accuracy of 5 : 97 %\n",
      "Accuracy of 6 : 97 %\n",
      "Accuracy of 7 : 98 %\n",
      "Accuracy of 8 : 94 %\n",
      "Accuracy of 9 : 97 %\n"
     ]
    }
   ],
   "source": [
    "# 10个类别的准确率\n",
    "\n",
    "class_correct = list(0. for i in range(10))\n",
    "class_total = list(0. for i in range(10))\n",
    "with torch.no_grad():\n",
    "    for data in test_loader:\n",
    "        images, labels = data\n",
    "        outputs = test_net(images)\n",
    "        _, predicted = torch.max(outputs, 1)\n",
    "        c = (predicted == labels)\n",
    "#         print(predicted == labels)\n",
    "        for i in range(10):\n",
    "            label = labels[i]\n",
    "            class_correct[label] += c[i].item()\n",
    "            class_total[label] += 1\n",
    "\n",
    "\n",
    "for i in range(10):\n",
    "    print('Accuracy of %d : %2d %%' % (\n",
    "        i, 100 * class_correct[i] / class_total[i]))"
   ]
  }
 ],
 "metadata": {
  "kernelspec": {
   "display_name": "Python 3",
   "language": "python",
   "name": "python3"
  },
  "language_info": {
   "codemirror_mode": {
    "name": "ipython",
    "version": 3
   },
   "file_extension": ".py",
   "mimetype": "text/x-python",
   "name": "python",
   "nbconvert_exporter": "python",
   "pygments_lexer": "ipython3",
   "version": "3.8.5"
  }
 },
 "nbformat": 4,
 "nbformat_minor": 4
}
